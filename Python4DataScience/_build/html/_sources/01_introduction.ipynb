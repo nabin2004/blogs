{
 "cells": [
  {
   "cell_type": "markdown",
   "id": "ecb2d59f",
   "metadata": {},
   "source": [
    "<h1 align=\"center\">Introduction to this Nabin's notebook series</h1>"
   ]
  },
  {
   "cell_type": "markdown",
   "id": "b374f3d5",
   "metadata": {},
   "source": [
    "Hi there, I am Nabin Oli. I am Second Year undergrad Data Science student pursuing Bachelor of Data Science at Sunway College Kathmandu. Beyong my academic, I am fortunate to work as a Research Intern at Center for Artificial Intelligence Research Nepal also known as CAIR-Nepal. My current project is Heritage Graph where we are leveraging the power of knowledge graph to presearve and showcase rich Nepalese cultural heritage."
   ]
  },
  {
   "cell_type": "markdown",
   "id": "387d7803",
   "metadata": {},
   "source": [
    "This is start of the something big :- )"
   ]
  },
  {
   "cell_type": "markdown",
   "id": "299ce66b",
   "metadata": {},
   "source": [
    "At the starting of this blo, Google recently fired their whole Python department. Still, I am making this Nabin's Notebook series. I don't why but I am making this. "
   ]
  },
  {
   "cell_type": "code",
   "execution_count": null,
   "id": "045a8602",
   "metadata": {},
   "outputs": [],
   "source": []
  }
 ],
 "metadata": {
  "kernelspec": {
   "display_name": "Python 3 (ipykernel)",
   "language": "python",
   "name": "python3"
  },
  "language_info": {
   "codemirror_mode": {
    "name": "ipython",
    "version": 3
   },
   "file_extension": ".py",
   "mimetype": "text/x-python",
   "name": "python",
   "nbconvert_exporter": "python",
   "pygments_lexer": "ipython3",
   "version": "3.12.2"
  }
 },
 "nbformat": 4,
 "nbformat_minor": 5
}
